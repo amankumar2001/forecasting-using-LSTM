{
  "nbformat": 4,
  "nbformat_minor": 0,
  "metadata": {
    "colab": {
      "name": "Welcome To Colaboratory",
      "provenance": [],
      "collapsed_sections": [],
      "toc_visible": true,
      "include_colab_link": true
    },
    "kernelspec": {
      "display_name": "Python 3",
      "name": "python3"
    }
  },
  "cells": [
    {
      "cell_type": "markdown",
      "metadata": {
        "id": "view-in-github",
        "colab_type": "text"
      },
      "source": [
        "<a href=\"https://colab.research.google.com/github/amankumar2001/forecasting-using-LSTM/blob/main/Welcome_To_Colaboratory.ipynb\" target=\"_parent\"><img src=\"https://colab.research.google.com/assets/colab-badge.svg\" alt=\"Open In Colab\"/></a>"
      ]
    },
    {
      "cell_type": "markdown",
      "metadata": {
        "id": "5fCEDCU_qrC0"
      },
      "source": [
        "<p><img alt=\"Colaboratory logo\" height=\"45px\" src=\"/img/colab_favicon.ico\" align=\"left\" hspace=\"10px\" vspace=\"0px\"></p>\n",
        "\n",
        "<h1>What is Colaboratory?</h1>\n",
        "\n",
        "Colaboratory, or \"Colab\" for short, allows you to write and execute Python in your browser, with \n",
        "- Zero configuration required\n",
        "- Free access to GPUs\n",
        "- Easy sharing\n",
        "\n",
        "Whether you're a **student**, a **data scientist** or an **AI researcher**, Colab can make your work easier. Watch [Introduction to Colab](https://www.youtube.com/watch?v=inN8seMm7UI) to learn more, or just get started below!"
      ]
    },
    {
      "cell_type": "markdown",
      "metadata": {
        "id": "GJBs_flRovLc"
      },
      "source": [
        "## **Getting started**\n",
        "\n",
        "The document you are reading is not a static web page, but an interactive environment called a **Colab notebook** that lets you write and execute code.\n",
        "\n",
        "For example, here is a **code cell** with a short Python script that computes a value, stores it in a variable, and prints the result:"
      ]
    },
    {
      "cell_type": "code",
      "metadata": {
        "colab": {
          "base_uri": "https://localhost:8080/",
          "height": 34
        },
        "id": "gJr_9dXGpJ05",
        "outputId": "9f556d03-ec67-4950-a485-cfdba9ddd14d"
      },
      "source": [
        "seconds_in_a_day = 24 * 60 * 60\n",
        "seconds_in_a_day"
      ],
      "execution_count": null,
      "outputs": [
        {
          "output_type": "execute_result",
          "data": {
            "text/plain": [
              "86400"
            ]
          },
          "metadata": {
            "tags": []
          },
          "execution_count": 0
        }
      ]
    },
    {
      "cell_type": "markdown",
      "metadata": {
        "id": "2fhs6GZ4qFMx"
      },
      "source": [
        "To execute the code in the above cell, select it with a click and then either press the play button to the left of the code, or use the keyboard shortcut \"Command/Ctrl+Enter\". To edit the code, just click the cell and start editing.\n",
        "\n",
        "Variables that you define in one cell can later be used in other cells:"
      ]
    },
    {
      "cell_type": "code",
      "metadata": {
        "colab": {
          "base_uri": "https://localhost:8080/",
          "height": 34
        },
        "id": "-gE-Ez1qtyIA",
        "outputId": "94cb2224-0edf-457b-90b5-0ac3488d8a97"
      },
      "source": [
        "seconds_in_a_week = 7 * seconds_in_a_day\n",
        "seconds_in_a_week"
      ],
      "execution_count": null,
      "outputs": [
        {
          "output_type": "execute_result",
          "data": {
            "text/plain": [
              "604800"
            ]
          },
          "metadata": {
            "tags": []
          },
          "execution_count": 0
        }
      ]
    },
    {
      "cell_type": "markdown",
      "metadata": {
        "id": "lSrWNr3MuFUS"
      },
      "source": [
        "Colab notebooks allow you to combine **executable code** and **rich text** in a single document, along with **images**, **HTML**, **LaTeX** and more. When you create your own Colab notebooks, they are stored in your Google Drive account. You can easily share your Colab notebooks with co-workers or friends, allowing them to comment on your notebooks or even edit them. To learn more, see [Overview of Colab](/notebooks/basic_features_overview.ipynb). To create a new Colab notebook you can use the File menu above, or use the following link: [create a new Colab notebook](http://colab.research.google.com#create=true).\n",
        "\n",
        "Colab notebooks are Jupyter notebooks that are hosted by Colab. To learn more about the Jupyter project, see [jupyter.org](https://www.jupyter.org)."
      ]
    },
    {
      "cell_type": "markdown",
      "metadata": {
        "id": "UdRyKR44dcNI"
      },
      "source": [
        "## Data science\n",
        "\n",
        "With Colab you can harness the full power of popular Python libraries to analyze and visualize data. The code cell below uses **numpy** to generate some random data, and uses **matplotlib** to visualize it. To edit the code, just click the cell and start editing."
      ]
    },
    {
      "cell_type": "code",
      "metadata": {
        "colab": {
          "base_uri": "https://localhost:8080/",
          "height": 281
        },
        "id": "C4HZx7Gndbrh",
        "outputId": "46abc637-6abd-41b2-9bba-80a7ae992e06"
      },
      "source": [
        "import numpy as np\n",
        "from matplotlib import pyplot as plt\n",
        "\n",
        "ys = 200 + np.random.randn(100)\n",
        "x = [x for x in range(len(ys))]\n",
        "\n",
        "plt.plot(x, ys, '-')\n",
        "plt.fill_between(x, ys, 195, where=(ys > 195), facecolor='g', alpha=0.6)\n",
        "\n",
        "plt.title(\"Sample Visualization\")\n",
        "plt.show()"
      ],
      "execution_count": null,
      "outputs": [
        {
          "output_type": "display_data",
          "data": {
            "image/png": "[encoded data removed]",
            "text/plain": [
              "<Figure size 432x288 with 1 Axes>"
            ]
          },
          "metadata": {
            "tags": []
          }
        }
      ]
    },
    {
      "cell_type": "markdown",
      "metadata": {
        "id": "4_kCnsPUqS6o"
      },
      "source": [
        "You can import your own data into Colab notebooks from your Google Drive account, including from spreadsheets, as well as from Github and many other sources. To learn more about importing data, and how Colab can be used for data science, see the links below under [Working with Data](#working-with-data)."
      ]
    },
    {
      "cell_type": "markdown",
      "metadata": {
        "id": "OwuxHmxllTwN"
      },
      "source": [
        "## Machine learning\n",
        "\n",
        "With Colab you can import an image dataset, train an image classifier on it, and evaluate the model, all in just [a few lines of code](https://colab.research.google.com/github/tensorflow/docs/blob/master/site/en/tutorials/quickstart/beginner.ipynb). Colab notebooks execute code on Google's cloud servers, meaning you can leverage the power of Google hardware, including [GPUs and TPUs](#using-accelerated-hardware), regardless of the power of your machine. All you need is a browser."
      ]
    },
    {
      "cell_type": "markdown",
      "metadata": {
        "id": "ufxBm1yRnruN"
      },
      "source": [
        "Colab is used extensively in the machine learning community with applications including:\n",
        "- Getting started with TensorFlow\n",
        "- Developing and training neural networks\n",
        "- Experimenting with TPUs\n",
        "- Disseminating AI research\n",
        "- Creating tutorials\n",
        "\n",
        "To see sample Colab notebooks that demonstrate machine learning applications, see the [machine learning examples](#machine-learning-examples) below."
      ]
    },
    {
      "cell_type": "markdown",
      "metadata": {
        "id": "-Rh3-Vt9Nev9"
      },
      "source": [
        "## More Resources\n",
        "\n",
        "### Working with Notebooks in Colab\n",
        "- [Overview of Colaboratory](/notebooks/basic_features_overview.ipynb)\n",
        "- [Guide to Markdown](/notebooks/markdown_guide.ipynb)\n",
        "- [Importing libraries and installing dependencies](/notebooks/snippets/importing_libraries.ipynb)\n",
        "- [Saving and loading notebooks in GitHub](https://colab.research.google.com/github/googlecolab/colabtools/blob/master/notebooks/colab-github-demo.ipynb)\n",
        "- [Interactive forms](/notebooks/forms.ipynb)\n",
        "- [Interactive widgets](/notebooks/widgets.ipynb)\n",
        "- <img src=\"/img/new.png\" height=\"20px\" align=\"left\" hspace=\"4px\" alt=\"New\"></img>\n",
        " [TensorFlow 2 in Colab](/notebooks/tensorflow_version.ipynb)\n",
        "\n",
        "<a name=\"working-with-data\"></a>\n",
        "### Working with Data\n",
        "- [Loading data: Drive, Sheets, and Google Cloud Storage](/notebooks/io.ipynb) \n",
        "- [Charts: visualizing data](/notebooks/charts.ipynb)\n",
        "- [Getting started with BigQuery](/notebooks/bigquery.ipynb)\n",
        "\n",
        "### Machine Learning Crash Course\n",
        "These are a few of the notebooks from Google's online Machine Learning course. See the [full course website](https://developers.google.com/machine-learning/crash-course/) for more.\n",
        "- [Intro to Pandas](/notebooks/mlcc/intro_to_pandas.ipynb)\n",
        "- [Tensorflow concepts](/notebooks/mlcc/tensorflow_programming_concepts.ipynb)\n",
        "- [First steps with TensorFlow](/notebooks/mlcc/first_steps_with_tensor_flow.ipynb)\n",
        "- [Intro to neural nets](/notebooks/mlcc/intro_to_neural_nets.ipynb)\n",
        "- [Intro to sparse data and embeddings](/notebooks/mlcc/intro_to_sparse_data_and_embeddings.ipynb)\n",
        "\n",
        "<a name=\"using-accelerated-hardware\"></a>\n",
        "### Using Accelerated Hardware\n",
        "- [TensorFlow with GPUs](/notebooks/gpu.ipynb)\n",
        "- [TensorFlow with TPUs](/notebooks/tpu.ipynb)"
      ]
    },
    {
      "cell_type": "markdown",
      "metadata": {
        "id": "P-H6Lw1vyNNd"
      },
      "source": [
        "<a name=\"machine-learning-examples\"></a>\n",
        "\n",
        "## Machine Learning Examples\n",
        "\n",
        "To see end-to-end examples of the interactive machine learning analyses that Colaboratory makes possible, check out these  tutorials using models from [TensorFlow Hub](https://tfhub.dev).\n",
        "\n",
        "A few featured examples:\n",
        "\n",
        "- [Retraining an Image Classifier](https://tensorflow.org/hub/tutorials/tf2_image_retraining): Build a Keras model on top of a pre-trained image classifier to distinguish flowers.\n",
        "- [Text Classification](https://tensorflow.org/hub/tutorials/tf2_text_classification): Classify IMDB movie reviews as either *positive* or *negative*.\n",
        "- [Style Transfer](https://tensorflow.org/hub/tutorials/tf2_arbitrary_image_stylization): Use deep learning to transfer style between images.\n",
        "- [Multilingual Universal Sentence Encoder Q&A](https://tensorflow.org/hub/tutorials/retrieval_with_tf_hub_universal_encoder_qa): Use a machine learning model to answer questions from the SQuAD dataset.\n",
        "- [Video Interpolation](https://tensorflow.org/hub/tutorials/tweening_conv3d): Predict what happened in a video between the first and the last frame.\n"
      ]
    },
    {
      "cell_type": "code",
      "metadata": {
        "id": "ovH9ZvvhFocj"
      },
      "source": [
        "import numpy as np\n",
        "from tensorflow.keras.models import Sequential\n",
        "from tensorflow.keras.layers import LSTM\n",
        "from tensorflow.keras.layers import Dense\n",
        "from tensorflow.keras.layers import Flatten"
      ],
      "execution_count": 1,
      "outputs": []
    },
    {
      "cell_type": "code",
      "metadata": {
        "id": "BqMSf1cAGctR"
      },
      "source": [
        "# preparing independent and dependent features\n",
        "def prepare_data(timeseries_data, n_features):\n",
        "\tX, y =[],[]\n",
        "\tfor i in range(len(timeseries_data)):\n",
        "\t\t# find the end of this pattern\n",
        "\t\tend_ix = i + n_features\n",
        "\t\t# check if we are beyond the sequence\n",
        "\t\tif end_ix > len(timeseries_data)-1:\n",
        "\t\t\tbreak\n",
        "\t\t# gather input and output parts of the pattern\n",
        "\t\tseq_x, seq_y = timeseries_data[i:end_ix], timeseries_data[end_ix]\n",
        "\t\tX.append(seq_x)\n",
        "\t\ty.append(seq_y)\n",
        "\treturn np.array(X), np.array(y)"
      ],
      "execution_count": 2,
      "outputs": []
    },
    {
      "cell_type": "code",
      "metadata": {
        "id": "iRlx0Z0DGhkg"
      },
      "source": [
        "# define input sequence\n",
        "timeseries_data = [110, 125, 133, 146, 158, 172, 187, 196, 210]\n",
        "# choose a number of time steps\n",
        "n_steps = 3\n",
        "# split into samples\n",
        "X, y = prepare_data(timeseries_data, n_steps)"
      ],
      "execution_count": 3,
      "outputs": []
    },
    {
      "cell_type": "code",
      "metadata": {
        "id": "hEv2oCP9GlEI",
        "outputId": "e71e4f2d-0465-4f79-e982-85117cd67122",
        "colab": {
          "base_uri": "https://localhost:8080/"
        }
      },
      "source": [
        "print(X),print(y)"
      ],
      "execution_count": 4,
      "outputs": [
        {
          "output_type": "stream",
          "text": [
            "[[110 125 133]\n",
            " [125 133 146]\n",
            " [133 146 158]\n",
            " [146 158 172]\n",
            " [158 172 187]\n",
            " [172 187 196]]\n",
            "[146 158 172 187 196 210]\n"
          ],
          "name": "stdout"
        },
        {
          "output_type": "execute_result",
          "data": {
            "text/plain": [
              "(None, None)"
            ]
          },
          "metadata": {
            "tags": []
          },
          "execution_count": 4
        }
      ]
    },
    {
      "cell_type": "code",
      "metadata": {
        "id": "sgmJ_iIMGntn",
        "outputId": "0a224181-72c7-4e02-d970-58ebb5bc5a38",
        "colab": {
          "base_uri": "https://localhost:8080/"
        }
      },
      "source": [
        "X.shape"
      ],
      "execution_count": 5,
      "outputs": [
        {
          "output_type": "execute_result",
          "data": {
            "text/plain": [
              "(6, 3)"
            ]
          },
          "metadata": {
            "tags": []
          },
          "execution_count": 5
        }
      ]
    },
    {
      "cell_type": "code",
      "metadata": {
        "id": "yF-Al8LwGrzQ"
      },
      "source": [
        "# reshape from [samples, timesteps] into [samples, timesteps, features]\n",
        "n_features = 1\n",
        "X = X.reshape((X.shape[0], X.shape[1], n_features))"
      ],
      "execution_count": 6,
      "outputs": []
    },
    {
      "cell_type": "code",
      "metadata": {
        "id": "yf6w2L6DGuvI",
        "outputId": "a2a9b9ed-7d5f-49e3-f239-8f89e771ad7d",
        "colab": {
          "base_uri": "https://localhost:8080/"
        }
      },
      "source": [
        "# define model\n",
        "model = Sequential()\n",
        "model.add(LSTM(50, activation='relu', return_sequences=True, input_shape=(n_steps, n_features)))\n",
        "model.add(LSTM(50, activation='relu'))\n",
        "model.add(Dense(1))\n",
        "model.compile(optimizer='adam', loss='mse')\n",
        "# fit model\n",
        "model.fit(X, y, epochs=300, verbose=1)"
      ],
      "execution_count": 7,
      "outputs": [
        {
          "output_type": "stream",
          "text": [
            "Epoch 1/300\n",
            "1/1 [==============================] - 2s 2s/step - loss: 30281.3535\n",
            "Epoch 2/300\n",
            "1/1 [==============================] - 0s 8ms/step - loss: 29995.2285\n",
            "Epoch 3/300\n",
            "1/1 [==============================] - 0s 10ms/step - loss: 29702.6309\n",
            "Epoch 4/300\n",
            "1/1 [==============================] - 0s 10ms/step - loss: 29399.4844\n",
            "Epoch 5/300\n",
            "1/1 [==============================] - 0s 9ms/step - loss: 29081.4082\n",
            "Epoch 6/300\n",
            "1/1 [==============================] - 0s 12ms/step - loss: 28742.9688\n",
            "Epoch 7/300\n",
            "1/1 [==============================] - 0s 10ms/step - loss: 28368.7402\n",
            "Epoch 8/300\n",
            "1/1 [==============================] - 0s 9ms/step - loss: 27956.6934\n",
            "Epoch 9/300\n",
            "1/1 [==============================] - 0s 9ms/step - loss: 27497.3438\n",
            "Epoch 10/300\n",
            "1/1 [==============================] - 0s 11ms/step - loss: 26979.7969\n",
            "Epoch 11/300\n",
            "1/1 [==============================] - 0s 8ms/step - loss: 26394.3203\n",
            "Epoch 12/300\n",
            "1/1 [==============================] - 0s 6ms/step - loss: 25737.6152\n",
            "Epoch 13/300\n",
            "1/1 [==============================] - 0s 8ms/step - loss: 25013.4746\n",
            "Epoch 14/300\n",
            "1/1 [==============================] - 0s 11ms/step - loss: 24217.3125\n",
            "Epoch 15/300\n",
            "1/1 [==============================] - 0s 17ms/step - loss: 23334.1016\n",
            "Epoch 16/300\n",
            "1/1 [==============================] - 0s 12ms/step - loss: 22275.6875\n",
            "Epoch 17/300\n",
            "1/1 [==============================] - 0s 10ms/step - loss: 20974.0176\n",
            "Epoch 18/300\n",
            "1/1 [==============================] - 0s 15ms/step - loss: 19567.9336\n",
            "Epoch 19/300\n",
            "1/1 [==============================] - 0s 14ms/step - loss: 18273.2324\n",
            "Epoch 20/300\n",
            "1/1 [==============================] - 0s 20ms/step - loss: 17082.0098\n",
            "Epoch 21/300\n",
            "1/1 [==============================] - 0s 10ms/step - loss: 15755.6240\n",
            "Epoch 22/300\n",
            "1/1 [==============================] - 0s 10ms/step - loss: 14070.8584\n",
            "Epoch 23/300\n",
            "1/1 [==============================] - 0s 14ms/step - loss: 12334.4375\n",
            "Epoch 24/300\n",
            "1/1 [==============================] - 0s 13ms/step - loss: 10704.6045\n",
            "Epoch 25/300\n",
            "1/1 [==============================] - 0s 19ms/step - loss: 8879.5010\n",
            "Epoch 26/300\n",
            "1/1 [==============================] - 0s 9ms/step - loss: 6836.1831\n",
            "Epoch 27/300\n",
            "1/1 [==============================] - 0s 9ms/step - loss: 4818.1221\n",
            "Epoch 28/300\n",
            "1/1 [==============================] - 0s 10ms/step - loss: 3035.8779\n",
            "Epoch 29/300\n",
            "1/1 [==============================] - 0s 10ms/step - loss: 1658.9443\n",
            "Epoch 30/300\n",
            "1/1 [==============================] - 0s 17ms/step - loss: 672.6430\n",
            "Epoch 31/300\n",
            "1/1 [==============================] - 0s 12ms/step - loss: 81.4986\n",
            "Epoch 32/300\n",
            "1/1 [==============================] - 0s 10ms/step - loss: 256.5972\n",
            "Epoch 33/300\n",
            "1/1 [==============================] - 0s 9ms/step - loss: 900.8787\n",
            "Epoch 34/300\n",
            "1/1 [==============================] - 0s 11ms/step - loss: 1192.7806\n",
            "Epoch 35/300\n",
            "1/1 [==============================] - 0s 10ms/step - loss: 1036.3188\n",
            "Epoch 36/300\n",
            "1/1 [==============================] - 0s 11ms/step - loss: 738.9644\n",
            "Epoch 37/300\n",
            "1/1 [==============================] - 0s 10ms/step - loss: 541.1015\n",
            "Epoch 38/300\n",
            "1/1 [==============================] - 0s 14ms/step - loss: 418.6087\n",
            "Epoch 39/300\n",
            "1/1 [==============================] - 0s 18ms/step - loss: 317.8472\n",
            "Epoch 40/300\n",
            "1/1 [==============================] - 0s 15ms/step - loss: 227.9655\n",
            "Epoch 41/300\n",
            "1/1 [==============================] - 0s 11ms/step - loss: 149.6210\n",
            "Epoch 42/300\n",
            "1/1 [==============================] - 0s 14ms/step - loss: 86.4163\n",
            "Epoch 43/300\n",
            "1/1 [==============================] - 0s 17ms/step - loss: 42.0930\n",
            "Epoch 44/300\n",
            "1/1 [==============================] - 0s 21ms/step - loss: 18.5637\n",
            "Epoch 45/300\n",
            "1/1 [==============================] - 0s 16ms/step - loss: 15.9437\n",
            "Epoch 46/300\n",
            "1/1 [==============================] - 0s 13ms/step - loss: 29.8495\n",
            "Epoch 47/300\n",
            "1/1 [==============================] - 0s 18ms/step - loss: 49.9766\n",
            "Epoch 48/300\n",
            "1/1 [==============================] - 0s 10ms/step - loss: 68.2526\n",
            "Epoch 49/300\n",
            "1/1 [==============================] - 0s 17ms/step - loss: 80.1059\n",
            "Epoch 50/300\n",
            "1/1 [==============================] - 0s 18ms/step - loss: 84.4093\n",
            "Epoch 51/300\n",
            "1/1 [==============================] - 0s 11ms/step - loss: 82.1244\n",
            "Epoch 52/300\n",
            "1/1 [==============================] - 0s 10ms/step - loss: 74.2294\n",
            "Epoch 53/300\n",
            "1/1 [==============================] - 0s 13ms/step - loss: 63.2770\n",
            "Epoch 54/300\n",
            "1/1 [==============================] - 0s 12ms/step - loss: 51.4710\n",
            "Epoch 55/300\n",
            "1/1 [==============================] - 0s 9ms/step - loss: 40.3268\n",
            "Epoch 56/300\n",
            "1/1 [==============================] - 0s 9ms/step - loss: 30.7669\n",
            "Epoch 57/300\n",
            "1/1 [==============================] - 0s 10ms/step - loss: 23.4223\n",
            "Epoch 58/300\n",
            "1/1 [==============================] - 0s 10ms/step - loss: 18.6803\n",
            "Epoch 59/300\n",
            "1/1 [==============================] - 0s 12ms/step - loss: 16.5944\n",
            "Epoch 60/300\n",
            "1/1 [==============================] - 0s 9ms/step - loss: 16.8437\n",
            "Epoch 61/300\n",
            "1/1 [==============================] - 0s 9ms/step - loss: 18.7926\n",
            "Epoch 62/300\n",
            "1/1 [==============================] - 0s 11ms/step - loss: 21.6239\n",
            "Epoch 63/300\n",
            "1/1 [==============================] - 0s 9ms/step - loss: 24.5014\n",
            "Epoch 64/300\n",
            "1/1 [==============================] - 0s 10ms/step - loss: 26.7266\n",
            "Epoch 65/300\n",
            "1/1 [==============================] - 0s 8ms/step - loss: 27.8500\n",
            "Epoch 66/300\n",
            "1/1 [==============================] - 0s 7ms/step - loss: 27.7203\n",
            "Epoch 67/300\n",
            "1/1 [==============================] - 0s 7ms/step - loss: 26.4660\n",
            "Epoch 68/300\n",
            "1/1 [==============================] - 0s 14ms/step - loss: 24.4224\n",
            "Epoch 69/300\n",
            "1/1 [==============================] - 0s 10ms/step - loss: 22.0304\n",
            "Epoch 70/300\n",
            "1/1 [==============================] - 0s 6ms/step - loss: 19.7291\n",
            "Epoch 71/300\n",
            "1/1 [==============================] - 0s 8ms/step - loss: 17.8688\n",
            "Epoch 72/300\n",
            "1/1 [==============================] - 0s 9ms/step - loss: 16.6577\n",
            "Epoch 73/300\n",
            "1/1 [==============================] - 0s 9ms/step - loss: 16.1459\n",
            "Epoch 74/300\n",
            "1/1 [==============================] - 0s 18ms/step - loss: 16.2434\n",
            "Epoch 75/300\n",
            "1/1 [==============================] - 0s 18ms/step - loss: 16.7708\n",
            "Epoch 76/300\n",
            "1/1 [==============================] - 0s 9ms/step - loss: 17.4761\n",
            "Epoch 77/300\n",
            "1/1 [==============================] - 0s 12ms/step - loss: 18.1417\n",
            "Epoch 78/300\n",
            "1/1 [==============================] - 0s 11ms/step - loss: 18.6082\n",
            "Epoch 79/300\n",
            "1/1 [==============================] - 0s 9ms/step - loss: 18.7827\n",
            "Epoch 80/300\n",
            "1/1 [==============================] - 0s 25ms/step - loss: 18.6467\n",
            "Epoch 81/300\n",
            "1/1 [==============================] - 0s 10ms/step - loss: 18.2475\n",
            "Epoch 82/300\n",
            "1/1 [==============================] - 0s 14ms/step - loss: 17.6762\n",
            "Epoch 83/300\n",
            "1/1 [==============================] - 0s 11ms/step - loss: 17.0441\n",
            "Epoch 84/300\n",
            "1/1 [==============================] - 0s 11ms/step - loss: 16.4558\n",
            "Epoch 85/300\n",
            "1/1 [==============================] - 0s 16ms/step - loss: 15.9899\n",
            "Epoch 86/300\n",
            "1/1 [==============================] - 0s 12ms/step - loss: 15.6875\n",
            "Epoch 87/300\n",
            "1/1 [==============================] - 0s 11ms/step - loss: 15.5511\n",
            "Epoch 88/300\n",
            "1/1 [==============================] - 0s 9ms/step - loss: 15.5573\n",
            "Epoch 89/300\n",
            "1/1 [==============================] - 0s 11ms/step - loss: 15.6879\n",
            "Epoch 90/300\n",
            "1/1 [==============================] - 0s 8ms/step - loss: 15.9490\n",
            "Epoch 91/300\n",
            "1/1 [==============================] - 0s 11ms/step - loss: 16.0762\n",
            "Epoch 92/300\n",
            "1/1 [==============================] - 0s 13ms/step - loss: 16.0283\n",
            "Epoch 93/300\n",
            "1/1 [==============================] - 0s 10ms/step - loss: 15.8881\n",
            "Epoch 94/300\n",
            "1/1 [==============================] - 0s 10ms/step - loss: 15.7128\n",
            "Epoch 95/300\n",
            "1/1 [==============================] - 0s 9ms/step - loss: 15.5292\n",
            "Epoch 96/300\n",
            "1/1 [==============================] - 0s 12ms/step - loss: 15.3577\n",
            "Epoch 97/300\n",
            "1/1 [==============================] - 0s 13ms/step - loss: 15.2155\n",
            "Epoch 98/300\n",
            "1/1 [==============================] - 0s 12ms/step - loss: 15.1127\n",
            "Epoch 99/300\n",
            "1/1 [==============================] - 0s 11ms/step - loss: 15.0485\n",
            "Epoch 100/300\n",
            "1/1 [==============================] - 0s 9ms/step - loss: 15.0096\n",
            "Epoch 101/300\n",
            "1/1 [==============================] - 0s 11ms/step - loss: 14.9735\n",
            "Epoch 102/300\n",
            "1/1 [==============================] - 0s 10ms/step - loss: 14.9284\n",
            "Epoch 103/300\n",
            "1/1 [==============================] - 0s 9ms/step - loss: 14.8525\n",
            "Epoch 104/300\n",
            "1/1 [==============================] - 0s 11ms/step - loss: 14.7322\n",
            "Epoch 105/300\n",
            "1/1 [==============================] - 0s 10ms/step - loss: 14.5825\n",
            "Epoch 106/300\n",
            "1/1 [==============================] - 0s 11ms/step - loss: 14.4634\n",
            "Epoch 107/300\n",
            "1/1 [==============================] - 0s 10ms/step - loss: 14.4497\n",
            "Epoch 108/300\n",
            "1/1 [==============================] - 0s 9ms/step - loss: 14.4933\n",
            "Epoch 109/300\n",
            "1/1 [==============================] - 0s 12ms/step - loss: 14.4788\n",
            "Epoch 110/300\n",
            "1/1 [==============================] - 0s 9ms/step - loss: 14.3901\n",
            "Epoch 111/300\n",
            "1/1 [==============================] - 0s 12ms/step - loss: 14.2735\n",
            "Epoch 112/300\n",
            "1/1 [==============================] - 0s 9ms/step - loss: 14.1827\n",
            "Epoch 113/300\n",
            "1/1 [==============================] - 0s 9ms/step - loss: 14.1386\n",
            "Epoch 114/300\n",
            "1/1 [==============================] - 0s 18ms/step - loss: 14.1178\n",
            "Epoch 115/300\n",
            "1/1 [==============================] - 0s 22ms/step - loss: 14.0832\n",
            "Epoch 116/300\n",
            "1/1 [==============================] - 0s 9ms/step - loss: 14.0165\n",
            "Epoch 117/300\n",
            "1/1 [==============================] - 0s 16ms/step - loss: 13.9242\n",
            "Epoch 118/300\n",
            "1/1 [==============================] - 0s 20ms/step - loss: 13.8280\n",
            "Epoch 119/300\n",
            "1/1 [==============================] - 0s 27ms/step - loss: 13.7506\n",
            "Epoch 120/300\n",
            "1/1 [==============================] - 0s 14ms/step - loss: 13.6942\n",
            "Epoch 121/300\n",
            "1/1 [==============================] - 0s 12ms/step - loss: 13.6415\n",
            "Epoch 122/300\n",
            "1/1 [==============================] - 0s 11ms/step - loss: 13.5707\n",
            "Epoch 123/300\n",
            "1/1 [==============================] - 0s 15ms/step - loss: 13.4756\n",
            "Epoch 124/300\n",
            "1/1 [==============================] - 0s 10ms/step - loss: 13.3690\n",
            "Epoch 125/300\n",
            "1/1 [==============================] - 0s 15ms/step - loss: 13.2656\n",
            "Epoch 126/300\n",
            "1/1 [==============================] - 0s 9ms/step - loss: 13.1635\n",
            "Epoch 127/300\n",
            "1/1 [==============================] - 0s 8ms/step - loss: 13.0424\n",
            "Epoch 128/300\n",
            "1/1 [==============================] - 0s 15ms/step - loss: 12.8752\n",
            "Epoch 129/300\n",
            "1/1 [==============================] - 0s 40ms/step - loss: 12.6340\n",
            "Epoch 130/300\n",
            "1/1 [==============================] - 0s 11ms/step - loss: 12.2861\n",
            "Epoch 131/300\n",
            "1/1 [==============================] - 0s 11ms/step - loss: 11.7942\n",
            "Epoch 132/300\n",
            "1/1 [==============================] - 0s 31ms/step - loss: 11.1806\n",
            "Epoch 133/300\n",
            "1/1 [==============================] - 0s 11ms/step - loss: 10.8372\n",
            "Epoch 134/300\n",
            "1/1 [==============================] - 0s 10ms/step - loss: 10.1849\n",
            "Epoch 135/300\n",
            "1/1 [==============================] - 0s 10ms/step - loss: 9.6014\n",
            "Epoch 136/300\n",
            "1/1 [==============================] - 0s 9ms/step - loss: 9.3868\n",
            "Epoch 137/300\n",
            "1/1 [==============================] - 0s 8ms/step - loss: 8.8022\n",
            "Epoch 138/300\n",
            "1/1 [==============================] - 0s 9ms/step - loss: 8.8694\n",
            "Epoch 139/300\n",
            "1/1 [==============================] - 0s 9ms/step - loss: 8.0088\n",
            "Epoch 140/300\n",
            "1/1 [==============================] - 0s 11ms/step - loss: 8.1560\n",
            "Epoch 141/300\n",
            "1/1 [==============================] - 0s 13ms/step - loss: 7.4804\n",
            "Epoch 142/300\n",
            "1/1 [==============================] - 0s 11ms/step - loss: 7.2344\n",
            "Epoch 143/300\n",
            "1/1 [==============================] - 0s 13ms/step - loss: 6.9473\n",
            "Epoch 144/300\n",
            "1/1 [==============================] - 0s 15ms/step - loss: 6.4577\n",
            "Epoch 145/300\n",
            "1/1 [==============================] - 0s 9ms/step - loss: 6.3434\n",
            "Epoch 146/300\n",
            "1/1 [==============================] - 0s 18ms/step - loss: 5.7401\n",
            "Epoch 147/300\n",
            "1/1 [==============================] - 0s 18ms/step - loss: 5.8904\n",
            "Epoch 148/300\n",
            "1/1 [==============================] - 0s 11ms/step - loss: 5.2047\n",
            "Epoch 149/300\n",
            "1/1 [==============================] - 0s 14ms/step - loss: 5.3044\n",
            "Epoch 150/300\n",
            "1/1 [==============================] - 0s 12ms/step - loss: 4.8293\n",
            "Epoch 151/300\n",
            "1/1 [==============================] - 0s 10ms/step - loss: 5.1228\n",
            "Epoch 152/300\n",
            "1/1 [==============================] - 0s 14ms/step - loss: 4.8260\n",
            "Epoch 153/300\n",
            "1/1 [==============================] - 0s 9ms/step - loss: 4.8586\n",
            "Epoch 154/300\n",
            "1/1 [==============================] - 0s 10ms/step - loss: 4.6799\n",
            "Epoch 155/300\n",
            "1/1 [==============================] - 0s 22ms/step - loss: 4.5566\n",
            "Epoch 156/300\n",
            "1/1 [==============================] - 0s 17ms/step - loss: 4.6747\n",
            "Epoch 157/300\n",
            "1/1 [==============================] - 0s 10ms/step - loss: 4.4605\n",
            "Epoch 158/300\n",
            "1/1 [==============================] - 0s 8ms/step - loss: 4.6865\n",
            "Epoch 159/300\n",
            "1/1 [==============================] - 0s 8ms/step - loss: 4.4391\n",
            "Epoch 160/300\n",
            "1/1 [==============================] - 0s 16ms/step - loss: 4.5428\n",
            "Epoch 161/300\n",
            "1/1 [==============================] - 0s 21ms/step - loss: 4.4516\n",
            "Epoch 162/300\n",
            "1/1 [==============================] - 0s 12ms/step - loss: 4.4097\n",
            "Epoch 163/300\n",
            "1/1 [==============================] - 0s 16ms/step - loss: 4.4709\n",
            "Epoch 164/300\n",
            "1/1 [==============================] - 0s 16ms/step - loss: 4.3348\n",
            "Epoch 165/300\n",
            "1/1 [==============================] - 0s 25ms/step - loss: 4.4485\n",
            "Epoch 166/300\n",
            "1/1 [==============================] - 0s 17ms/step - loss: 4.3169\n",
            "Epoch 167/300\n",
            "1/1 [==============================] - 0s 13ms/step - loss: 4.3108\n",
            "Epoch 168/300\n",
            "1/1 [==============================] - 0s 12ms/step - loss: 4.3384\n",
            "Epoch 169/300\n",
            "1/1 [==============================] - 0s 16ms/step - loss: 4.2472\n",
            "Epoch 170/300\n",
            "1/1 [==============================] - 0s 10ms/step - loss: 4.2697\n",
            "Epoch 171/300\n",
            "1/1 [==============================] - 0s 10ms/step - loss: 4.2326\n",
            "Epoch 172/300\n",
            "1/1 [==============================] - 0s 13ms/step - loss: 4.2220\n",
            "Epoch 173/300\n",
            "1/1 [==============================] - 0s 11ms/step - loss: 4.2207\n",
            "Epoch 174/300\n",
            "1/1 [==============================] - 0s 10ms/step - loss: 4.1842\n",
            "Epoch 175/300\n",
            "1/1 [==============================] - 0s 19ms/step - loss: 4.2017\n",
            "Epoch 176/300\n",
            "1/1 [==============================] - 0s 18ms/step - loss: 4.1608\n",
            "Epoch 177/300\n",
            "1/1 [==============================] - 0s 10ms/step - loss: 4.1693\n",
            "Epoch 178/300\n",
            "1/1 [==============================] - 0s 10ms/step - loss: 4.1499\n",
            "Epoch 179/300\n",
            "1/1 [==============================] - 0s 12ms/step - loss: 4.1389\n",
            "Epoch 180/300\n",
            "1/1 [==============================] - 0s 18ms/step - loss: 4.1414\n",
            "Epoch 181/300\n",
            "1/1 [==============================] - 0s 21ms/step - loss: 4.1185\n",
            "Epoch 182/300\n",
            "1/1 [==============================] - 0s 11ms/step - loss: 4.1271\n",
            "Epoch 183/300\n",
            "1/1 [==============================] - 0s 11ms/step - loss: 4.1092\n",
            "Epoch 184/300\n",
            "1/1 [==============================] - 0s 13ms/step - loss: 4.1046\n",
            "Epoch 185/300\n",
            "1/1 [==============================] - 0s 13ms/step - loss: 4.1016\n",
            "Epoch 186/300\n",
            "1/1 [==============================] - 0s 13ms/step - loss: 4.0843\n",
            "Epoch 187/300\n",
            "1/1 [==============================] - 0s 12ms/step - loss: 4.0850\n",
            "Epoch 188/300\n",
            "1/1 [==============================] - 0s 20ms/step - loss: 4.0699\n",
            "Epoch 189/300\n",
            "1/1 [==============================] - 0s 11ms/step - loss: 4.0612\n",
            "Epoch 190/300\n",
            "1/1 [==============================] - 0s 14ms/step - loss: 4.0548\n",
            "Epoch 191/300\n",
            "1/1 [==============================] - 0s 12ms/step - loss: 4.0381\n",
            "Epoch 192/300\n",
            "1/1 [==============================] - 0s 21ms/step - loss: 4.0324\n",
            "Epoch 193/300\n",
            "1/1 [==============================] - 0s 13ms/step - loss: 4.0189\n",
            "Epoch 194/300\n",
            "1/1 [==============================] - 0s 25ms/step - loss: 4.0053\n",
            "Epoch 195/300\n",
            "1/1 [==============================] - 0s 13ms/step - loss: 3.9970\n",
            "Epoch 196/300\n",
            "1/1 [==============================] - 0s 12ms/step - loss: 3.9807\n",
            "Epoch 197/300\n",
            "1/1 [==============================] - 0s 13ms/step - loss: 3.9690\n",
            "Epoch 198/300\n",
            "1/1 [==============================] - 0s 14ms/step - loss: 3.9568\n",
            "Epoch 199/300\n",
            "1/1 [==============================] - 0s 17ms/step - loss: 3.9400\n",
            "Epoch 200/300\n",
            "1/1 [==============================] - 0s 12ms/step - loss: 3.9277\n",
            "Epoch 201/300\n",
            "1/1 [==============================] - 0s 26ms/step - loss: 3.9119\n",
            "Epoch 202/300\n",
            "1/1 [==============================] - 0s 10ms/step - loss: 3.8949\n",
            "Epoch 203/300\n",
            "1/1 [==============================] - 0s 15ms/step - loss: 3.8803\n",
            "Epoch 204/300\n",
            "1/1 [==============================] - 0s 12ms/step - loss: 3.8621\n",
            "Epoch 205/300\n",
            "1/1 [==============================] - 0s 19ms/step - loss: 3.8444\n",
            "Epoch 206/300\n",
            "1/1 [==============================] - 0s 16ms/step - loss: 3.8277\n",
            "Epoch 207/300\n",
            "1/1 [==============================] - 0s 12ms/step - loss: 3.8084\n",
            "Epoch 208/300\n",
            "1/1 [==============================] - 0s 10ms/step - loss: 3.7906\n",
            "Epoch 209/300\n",
            "1/1 [==============================] - 0s 10ms/step - loss: 3.7734\n",
            "Epoch 210/300\n",
            "1/1 [==============================] - 0s 11ms/step - loss: 3.7551\n",
            "Epoch 211/300\n",
            "1/1 [==============================] - 0s 18ms/step - loss: 3.7390\n",
            "Epoch 212/300\n",
            "1/1 [==============================] - 0s 36ms/step - loss: 3.7240\n",
            "Epoch 213/300\n",
            "1/1 [==============================] - 0s 14ms/step - loss: 3.7090\n",
            "Epoch 214/300\n",
            "1/1 [==============================] - 0s 19ms/step - loss: 3.6962\n",
            "Epoch 215/300\n",
            "1/1 [==============================] - 0s 11ms/step - loss: 3.6842\n",
            "Epoch 216/300\n",
            "1/1 [==============================] - 0s 21ms/step - loss: 3.6755\n",
            "Epoch 217/300\n",
            "1/1 [==============================] - 0s 8ms/step - loss: 3.6743\n",
            "Epoch 218/300\n",
            "1/1 [==============================] - 0s 10ms/step - loss: 3.6758\n",
            "Epoch 219/300\n",
            "1/1 [==============================] - 0s 7ms/step - loss: 3.6631\n",
            "Epoch 220/300\n",
            "1/1 [==============================] - 0s 12ms/step - loss: 3.6338\n",
            "Epoch 221/300\n",
            "1/1 [==============================] - 0s 17ms/step - loss: 3.6163\n",
            "Epoch 222/300\n",
            "1/1 [==============================] - 0s 15ms/step - loss: 3.6012\n",
            "Epoch 223/300\n",
            "1/1 [==============================] - 0s 9ms/step - loss: 3.5919\n",
            "Epoch 224/300\n",
            "1/1 [==============================] - 0s 15ms/step - loss: 3.5818\n",
            "Epoch 225/300\n",
            "1/1 [==============================] - 0s 16ms/step - loss: 3.5683\n",
            "Epoch 226/300\n",
            "1/1 [==============================] - 0s 15ms/step - loss: 3.5585\n",
            "Epoch 227/300\n",
            "1/1 [==============================] - 0s 9ms/step - loss: 3.5508\n",
            "Epoch 228/300\n",
            "1/1 [==============================] - 0s 15ms/step - loss: 3.5402\n",
            "Epoch 229/300\n",
            "1/1 [==============================] - 0s 18ms/step - loss: 3.5301\n",
            "Epoch 230/300\n",
            "1/1 [==============================] - 0s 13ms/step - loss: 3.5229\n",
            "Epoch 231/300\n",
            "1/1 [==============================] - 0s 7ms/step - loss: 3.5151\n",
            "Epoch 232/300\n",
            "1/1 [==============================] - 0s 13ms/step - loss: 3.5055\n",
            "Epoch 233/300\n",
            "1/1 [==============================] - 0s 13ms/step - loss: 3.4965\n",
            "Epoch 234/300\n",
            "1/1 [==============================] - 0s 9ms/step - loss: 3.4885\n",
            "Epoch 235/300\n",
            "1/1 [==============================] - 0s 14ms/step - loss: 3.4794\n",
            "Epoch 236/300\n",
            "1/1 [==============================] - 0s 12ms/step - loss: 3.4687\n",
            "Epoch 237/300\n",
            "1/1 [==============================] - 0s 9ms/step - loss: 3.4579\n",
            "Epoch 238/300\n",
            "1/1 [==============================] - 0s 11ms/step - loss: 3.4474\n",
            "Epoch 239/300\n",
            "1/1 [==============================] - 0s 9ms/step - loss: 3.4404\n",
            "Epoch 240/300\n",
            "1/1 [==============================] - 0s 9ms/step - loss: 3.4555\n",
            "Epoch 241/300\n",
            "1/1 [==============================] - 0s 8ms/step - loss: 3.4821\n",
            "Epoch 242/300\n",
            "1/1 [==============================] - 0s 8ms/step - loss: 3.5102\n",
            "Epoch 243/300\n",
            "1/1 [==============================] - 0s 11ms/step - loss: 3.4482\n",
            "Epoch 244/300\n",
            "1/1 [==============================] - 0s 12ms/step - loss: 3.3956\n",
            "Epoch 245/300\n",
            "1/1 [==============================] - 0s 8ms/step - loss: 3.3602\n",
            "Epoch 246/300\n",
            "1/1 [==============================] - 0s 11ms/step - loss: 3.3695\n",
            "Epoch 247/300\n",
            "1/1 [==============================] - 0s 8ms/step - loss: 3.4306\n",
            "Epoch 248/300\n",
            "1/1 [==============================] - 0s 8ms/step - loss: 3.3477\n",
            "Epoch 249/300\n",
            "1/1 [==============================] - 0s 8ms/step - loss: 3.3031\n",
            "Epoch 250/300\n",
            "1/1 [==============================] - 0s 13ms/step - loss: 3.2979\n",
            "Epoch 251/300\n",
            "1/1 [==============================] - 0s 8ms/step - loss: 3.2967\n",
            "Epoch 252/300\n",
            "1/1 [==============================] - 0s 9ms/step - loss: 3.2688\n",
            "Epoch 253/300\n",
            "1/1 [==============================] - 0s 12ms/step - loss: 3.2675\n",
            "Epoch 254/300\n",
            "1/1 [==============================] - 0s 14ms/step - loss: 3.2516\n",
            "Epoch 255/300\n",
            "1/1 [==============================] - 0s 9ms/step - loss: 3.2216\n",
            "Epoch 256/300\n",
            "1/1 [==============================] - 0s 8ms/step - loss: 3.2159\n",
            "Epoch 257/300\n",
            "1/1 [==============================] - 0s 8ms/step - loss: 3.1981\n",
            "Epoch 258/300\n",
            "1/1 [==============================] - 0s 8ms/step - loss: 3.1768\n",
            "Epoch 259/300\n",
            "1/1 [==============================] - 0s 13ms/step - loss: 3.1643\n",
            "Epoch 260/300\n",
            "1/1 [==============================] - 0s 9ms/step - loss: 3.1358\n",
            "Epoch 261/300\n",
            "1/1 [==============================] - 0s 8ms/step - loss: 3.1196\n",
            "Epoch 262/300\n",
            "1/1 [==============================] - 0s 9ms/step - loss: 3.1417\n",
            "Epoch 263/300\n",
            "1/1 [==============================] - 0s 13ms/step - loss: 3.1280\n",
            "Epoch 264/300\n",
            "1/1 [==============================] - 0s 15ms/step - loss: 3.0612\n",
            "Epoch 265/300\n",
            "1/1 [==============================] - 0s 17ms/step - loss: 3.0579\n",
            "Epoch 266/300\n",
            "1/1 [==============================] - 0s 10ms/step - loss: 3.0596\n",
            "Epoch 267/300\n",
            "1/1 [==============================] - 0s 12ms/step - loss: 2.9992\n",
            "Epoch 268/300\n",
            "1/1 [==============================] - 0s 13ms/step - loss: 2.9519\n",
            "Epoch 269/300\n",
            "1/1 [==============================] - 0s 14ms/step - loss: 2.9399\n",
            "Epoch 270/300\n",
            "1/1 [==============================] - 0s 13ms/step - loss: 2.8661\n",
            "Epoch 271/300\n",
            "1/1 [==============================] - 0s 12ms/step - loss: 2.9021\n",
            "Epoch 272/300\n",
            "1/1 [==============================] - 0s 13ms/step - loss: 3.1750\n",
            "Epoch 273/300\n",
            "1/1 [==============================] - 0s 9ms/step - loss: 2.8626\n",
            "Epoch 274/300\n",
            "1/1 [==============================] - 0s 21ms/step - loss: 3.0934\n",
            "Epoch 275/300\n",
            "1/1 [==============================] - 0s 21ms/step - loss: 4.3294\n",
            "Epoch 276/300\n",
            "1/1 [==============================] - 0s 39ms/step - loss: 2.7252\n",
            "Epoch 277/300\n",
            "1/1 [==============================] - 0s 17ms/step - loss: 3.9360\n",
            "Epoch 278/300\n",
            "1/1 [==============================] - 0s 17ms/step - loss: 2.6992\n",
            "Epoch 279/300\n",
            "1/1 [==============================] - 0s 25ms/step - loss: 3.4323\n",
            "Epoch 280/300\n",
            "1/1 [==============================] - 0s 17ms/step - loss: 2.9087\n",
            "Epoch 281/300\n",
            "1/1 [==============================] - 0s 26ms/step - loss: 2.4903\n",
            "Epoch 282/300\n",
            "1/1 [==============================] - 0s 21ms/step - loss: 2.7523\n",
            "Epoch 283/300\n",
            "1/1 [==============================] - 0s 18ms/step - loss: 2.6582\n",
            "Epoch 284/300\n",
            "1/1 [==============================] - 0s 9ms/step - loss: 2.9101\n",
            "Epoch 285/300\n",
            "1/1 [==============================] - 0s 24ms/step - loss: 2.0556\n",
            "Epoch 286/300\n",
            "1/1 [==============================] - 0s 14ms/step - loss: 3.6768\n",
            "Epoch 287/300\n",
            "1/1 [==============================] - 0s 8ms/step - loss: 6.1935\n",
            "Epoch 288/300\n",
            "1/1 [==============================] - 0s 13ms/step - loss: 6.8952\n",
            "Epoch 289/300\n",
            "1/1 [==============================] - 0s 14ms/step - loss: 3.1255\n",
            "Epoch 290/300\n",
            "1/1 [==============================] - 0s 23ms/step - loss: 5.2826\n",
            "Epoch 291/300\n",
            "1/1 [==============================] - 0s 11ms/step - loss: 4.1942\n",
            "Epoch 292/300\n",
            "1/1 [==============================] - 0s 12ms/step - loss: 3.0223\n",
            "Epoch 293/300\n",
            "1/1 [==============================] - 0s 21ms/step - loss: 4.3922\n",
            "Epoch 294/300\n",
            "1/1 [==============================] - 0s 10ms/step - loss: 4.3227\n",
            "Epoch 295/300\n",
            "1/1 [==============================] - 0s 7ms/step - loss: 3.7629\n",
            "Epoch 296/300\n",
            "1/1 [==============================] - 0s 10ms/step - loss: 3.5585\n",
            "Epoch 297/300\n",
            "1/1 [==============================] - 0s 12ms/step - loss: 3.4012\n",
            "Epoch 298/300\n",
            "1/1 [==============================] - 0s 8ms/step - loss: 3.6255\n",
            "Epoch 299/300\n",
            "1/1 [==============================] - 0s 10ms/step - loss: 3.8093\n",
            "Epoch 300/300\n",
            "1/1 [==============================] - 0s 13ms/step - loss: 3.6988\n"
          ],
          "name": "stdout"
        },
        {
          "output_type": "execute_result",
          "data": {
            "text/plain": [
              "<tensorflow.python.keras.callbacks.History at 0x7f3c1aa21cd0>"
            ]
          },
          "metadata": {
            "tags": []
          },
          "execution_count": 7
        }
      ]
    },
    {
      "cell_type": "code",
      "metadata": {
        "id": "lfg_Qqo8G0K3",
        "outputId": "de8dd87a-e540-4915-e114-5f34ba7db340",
        "colab": {
          "base_uri": "https://localhost:8080/"
        }
      },
      "source": [
        "# demonstrate prediction for next 10 days\n",
        "x_input = np.array([187, 196, 210])\n",
        "temp_input=list(x_input)\n",
        "lst_output=[]\n",
        "i=0\n",
        "while(i<10):\n",
        "    \n",
        "    if(len(temp_input)>3):\n",
        "        x_input=np.array(temp_input[1:])\n",
        "        print(\"{} day input {}\".format(i,x_input))\n",
        "        #print(x_input)\n",
        "        x_input = x_input.reshape((1, n_steps, n_features))\n",
        "        #print(x_input)\n",
        "        yhat = model.predict(x_input, verbose=0)\n",
        "        print(\"{} day output {}\".format(i,yhat))\n",
        "        temp_input.append(yhat[0][0])\n",
        "        temp_input=temp_input[1:]\n",
        "        #print(temp_input)\n",
        "        lst_output.append(yhat[0][0])\n",
        "        i=i+1\n",
        "    else:\n",
        "        x_input = x_input.reshape((1, n_steps, n_features))\n",
        "        yhat = model.predict(x_input, verbose=0)\n",
        "        print(yhat[0])\n",
        "        temp_input.append(yhat[0][0])\n",
        "        lst_output.append(yhat[0][0])\n",
        "        i=i+1\n",
        "    \n",
        "\n",
        "print(lst_output)"
      ],
      "execution_count": 10,
      "outputs": [
        {
          "output_type": "stream",
          "text": [
            "[223.54797]\n",
            "1 day input [196.         210.         223.54797363]\n",
            "1 day output [[234.29471]]\n",
            "2 day input [210.         223.54797363 234.29470825]\n",
            "2 day output [[247.98375]]\n",
            "3 day input [223.54797 234.29471 247.98375]\n",
            "3 day output [[260.61874]]\n",
            "4 day input [234.29471 247.98375 260.61874]\n",
            "4 day output [[272.74265]]\n",
            "5 day input [247.98375 260.61874 272.74265]\n",
            "5 day output [[286.13367]]\n",
            "6 day input [260.61874 272.74265 286.13367]\n",
            "6 day output [[298.95544]]\n",
            "7 day input [272.74265 286.13367 298.95544]\n",
            "7 day output [[311.9611]]\n",
            "8 day input [286.13367 298.95544 311.9611 ]\n",
            "8 day output [[325.48853]]\n",
            "9 day input [298.95544 311.9611  325.48853]\n",
            "9 day output [[338.89478]]\n",
            "[223.54797, 234.29471, 247.98375, 260.61874, 272.74265, 286.13367, 298.95544, 311.9611, 325.48853, 338.89478]\n"
          ],
          "name": "stdout"
        }
      ]
    },
    {
      "cell_type": "code",
      "metadata": {
        "id": "7opUgNWqHfJP",
        "outputId": "252c3a37-b75c-4794-e9e6-31623086a02e",
        "colab": {
          "base_uri": "https://localhost:8080/"
        }
      },
      "source": [
        "timeseries_data"
      ],
      "execution_count": 11,
      "outputs": [
        {
          "output_type": "execute_result",
          "data": {
            "text/plain": [
              "[110, 125, 133, 146, 158, 172, 187, 196, 210]"
            ]
          },
          "metadata": {
            "tags": []
          },
          "execution_count": 11
        }
      ]
    },
    {
      "cell_type": "code",
      "metadata": {
        "id": "_OnAtM1oHgY-",
        "outputId": "036d4b35-a2b0-4bf3-a762-e87b1fb7adbe",
        "colab": {
          "base_uri": "https://localhost:8080/"
        }
      },
      "source": [
        "len(timeseries_data)"
      ],
      "execution_count": 12,
      "outputs": [
        {
          "output_type": "execute_result",
          "data": {
            "text/plain": [
              "9"
            ]
          },
          "metadata": {
            "tags": []
          },
          "execution_count": 12
        }
      ]
    },
    {
      "cell_type": "code",
      "metadata": {
        "id": "3hW3XBZwHkc5",
        "outputId": "b5bbad28-56db-4073-dcd1-588e92678d27",
        "colab": {
          "base_uri": "https://localhost:8080/"
        }
      },
      "source": [
        "lst_output"
      ],
      "execution_count": 13,
      "outputs": [
        {
          "output_type": "execute_result",
          "data": {
            "text/plain": [
              "[223.54797,\n",
              " 234.29471,\n",
              " 247.98375,\n",
              " 260.61874,\n",
              " 272.74265,\n",
              " 286.13367,\n",
              " 298.95544,\n",
              " 311.9611,\n",
              " 325.48853,\n",
              " 338.89478]"
            ]
          },
          "metadata": {
            "tags": []
          },
          "execution_count": 13
        }
      ]
    },
    {
      "cell_type": "code",
      "metadata": {
        "id": "eXrloS-CHlxB"
      },
      "source": [
        "import matplotlib.pyplot as plt"
      ],
      "execution_count": 17,
      "outputs": []
    },
    {
      "cell_type": "code",
      "metadata": {
        "id": "K9uZnbI1IR-C"
      },
      "source": [
        "day_new=np.arange(1,10)\n",
        "day_pred=np.arange(10,20)"
      ],
      "execution_count": 18,
      "outputs": []
    },
    {
      "cell_type": "code",
      "metadata": {
        "id": "lQ1u7SVnITIZ",
        "outputId": "37053c53-8866-4d95-ab3b-7da7de8a24a7",
        "colab": {
          "base_uri": "https://localhost:8080/",
          "height": 286
        }
      },
      "source": [
        "plt.plot(day_new,timeseries_data)\n",
        "plt.plot(day_pred,lst_output)"
      ],
      "execution_count": 19,
      "outputs": [
        {
          "output_type": "execute_result",
          "data": {
            "text/plain": [
              "[<matplotlib.lines.Line2D at 0x7f3c1725f350>]"
            ]
          },
          "metadata": {
            "tags": []
          },
          "execution_count": 19
        },
        {
          "output_type": "display_data",
          "data": {
            "image/png": "[encoded data removed]",
            "text/plain": [
              "<Figure size 432x288 with 1 Axes>"
            ]
          },
          "metadata": {
            "tags": [],
            "needs_background": "light"
          }
        }
      ]
    }
  ]
}